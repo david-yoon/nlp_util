{
 "cells": [
  {
   "cell_type": "code",
   "execution_count": 1,
   "metadata": {
    "collapsed": false
   },
   "outputs": [],
   "source": [
    "import kenlm\n",
    "import json\n",
    "import nltk\n",
    "from tqdm import tqdm\n",
    "from nltk import word_tokenize"
   ]
  },
  {
   "cell_type": "markdown",
   "metadata": {},
   "source": [
    "### Set testfile (libri)"
   ]
  },
  {
   "cell_type": "code",
   "execution_count": 3,
   "metadata": {
    "collapsed": true
   },
   "outputs": [],
   "source": [
    "list_test_file = []\n",
    "\n",
    "list_test_file.append( './corpus/test/asr-baseline/dev-clean.json' )\n",
    "list_test_file.append( './corpus/test/asr-baseline/dev-other.json' )\n",
    "list_test_file.append( './corpus/test/asr-baseline/test-clean.json' )\n",
    "list_test_file.append( './corpus/test/asr-baseline/test-other.json' )\n",
    "\n",
    "list_test_file.append( './corpus/test/asr-baseline-minus/dev-clean.json' )\n",
    "list_test_file.append( './corpus/test/asr-baseline-minus/dev-other.json' )\n",
    "list_test_file.append( './corpus/test/asr-baseline-minus/test-clean.json' )\n",
    "list_test_file.append( './corpus/test/asr-baseline-minus/test-other.json' )\n",
    "\n",
    "list_test_file.append( './corpus/test/asr-baseline-plus/dev-clean.json' )\n",
    "list_test_file.append( './corpus/test/asr-baseline-plus/dev-other.json' )\n",
    "list_test_file.append( './corpus/test/asr-baseline-plus/test-clean.json' )\n",
    "list_test_file.append( './corpus/test/asr-baseline-plus/test-other.json' )"
   ]
  },
  {
   "cell_type": "code",
   "execution_count": null,
   "metadata": {
    "collapsed": false
   },
   "outputs": [],
   "source": []
  },
  {
   "cell_type": "code",
   "execution_count": null,
   "metadata": {
    "collapsed": true
   },
   "outputs": [],
   "source": []
  },
  {
   "cell_type": "markdown",
   "metadata": {},
   "source": [
    "### Load n-gram model (libri)"
   ]
  },
  {
   "cell_type": "code",
   "execution_count": 4,
   "metadata": {
    "collapsed": false
   },
   "outputs": [],
   "source": [
    "model_2 = kenlm.Model('./model/2-libri.binary')\n",
    "model_3 = kenlm.Model('./model/3-libri.binary')\n",
    "model_4 = kenlm.Model('./model/4-libri.binary')\n",
    "model_5 = kenlm.Model('./model/5-libri.binary')"
   ]
  },
  {
   "cell_type": "code",
   "execution_count": null,
   "metadata": {
    "collapsed": false
   },
   "outputs": [],
   "source": []
  },
  {
   "cell_type": "code",
   "execution_count": null,
   "metadata": {
    "collapsed": true
   },
   "outputs": [],
   "source": []
  },
  {
   "cell_type": "markdown",
   "metadata": {},
   "source": [
    "### Compute LM score & re-store"
   ]
  },
  {
   "cell_type": "code",
   "execution_count": 5,
   "metadata": {
    "collapsed": false
   },
   "outputs": [],
   "source": [
    "def compute_lm(json_data):\n",
    "\n",
    "    for key in tqdm(json_data.keys()):\n",
    "\n",
    "        for key_hyp in json_data[key].keys():\n",
    "\n",
    "            if key_hyp == 'ref':\n",
    "                continue\n",
    "            text = json_data[key][key_hyp]['text']\n",
    "            text = word_tokenize(text.lower().strip())\n",
    "            text = ' '.join(text)\n",
    "\n",
    "            # compute score & store back\n",
    "            json_data[key][key_hyp]['score_lm_2'] = model_2.score(text)\n",
    "            json_data[key][key_hyp]['ppl_lm_2']     = model_2.perplexity(text)\n",
    "\n",
    "            json_data[key][key_hyp]['score_lm_3'] = model_3.score(text)\n",
    "            json_data[key][key_hyp]['ppl_lm_3']     = model_3.perplexity(text)\n",
    "\n",
    "            json_data[key][key_hyp]['score_lm_4'] = model_4.score(text)\n",
    "            json_data[key][key_hyp]['ppl_lm_4']     = model_4.perplexity(text)\n",
    "\n",
    "            json_data[key][key_hyp]['score_lm_5'] = model_5.score(text)\n",
    "            json_data[key][key_hyp]['ppl_lm_5']     = model_5.perplexity(text)\n",
    "\n",
    "    #         print(json_data[key][key_hyp])\n",
    "    #         break\n",
    "#         break"
   ]
  },
  {
   "cell_type": "code",
   "execution_count": null,
   "metadata": {
    "collapsed": true
   },
   "outputs": [],
   "source": []
  },
  {
   "cell_type": "code",
   "execution_count": null,
   "metadata": {
    "collapsed": true
   },
   "outputs": [],
   "source": []
  },
  {
   "cell_type": "code",
   "execution_count": 6,
   "metadata": {
    "collapsed": false
   },
   "outputs": [
    {
     "name": "stdout",
     "output_type": "stream",
     "text": [
      "process file:  ./corpus/test/asr-baseline/dev-clean.json\n"
     ]
    },
    {
     "name": "stderr",
     "output_type": "stream",
     "text": [
      "  0%|          | 5/2703 [00:00<00:55, 48.31it/s]"
     ]
    },
    {
     "name": "stdout",
     "output_type": "stream",
     "text": [
      "length:  2703\n"
     ]
    },
    {
     "name": "stderr",
     "output_type": "stream",
     "text": [
      "100%|██████████| 2703/2703 [00:19<00:00, 141.62it/s]\n"
     ]
    },
    {
     "name": "stdout",
     "output_type": "stream",
     "text": [
      "process file:  ./corpus/test/asr-baseline/dev-other.json\n"
     ]
    },
    {
     "name": "stderr",
     "output_type": "stream",
     "text": [
      "  1%|          | 16/2864 [00:00<00:17, 158.79it/s]"
     ]
    },
    {
     "name": "stdout",
     "output_type": "stream",
     "text": [
      "length:  2864\n"
     ]
    },
    {
     "name": "stderr",
     "output_type": "stream",
     "text": [
      "100%|██████████| 2864/2864 [00:18<00:00, 158.52it/s]\n"
     ]
    },
    {
     "name": "stdout",
     "output_type": "stream",
     "text": [
      "process file:  ./corpus/test/asr-baseline/test-clean.json\n"
     ]
    },
    {
     "name": "stderr",
     "output_type": "stream",
     "text": [
      "  1%|          | 14/2620 [00:00<00:19, 134.39it/s]"
     ]
    },
    {
     "name": "stdout",
     "output_type": "stream",
     "text": [
      "length:  2620\n"
     ]
    },
    {
     "name": "stderr",
     "output_type": "stream",
     "text": [
      "100%|██████████| 2620/2620 [00:18<00:00, 141.59it/s]\n"
     ]
    },
    {
     "name": "stdout",
     "output_type": "stream",
     "text": [
      "process file:  ./corpus/test/asr-baseline/test-other.json\n"
     ]
    },
    {
     "name": "stderr",
     "output_type": "stream",
     "text": [
      "  0%|          | 14/2939 [00:00<00:21, 138.18it/s]"
     ]
    },
    {
     "name": "stdout",
     "output_type": "stream",
     "text": [
      "length:  2939\n"
     ]
    },
    {
     "name": "stderr",
     "output_type": "stream",
     "text": [
      "100%|██████████| 2939/2939 [00:19<00:00, 153.03it/s]\n"
     ]
    },
    {
     "name": "stdout",
     "output_type": "stream",
     "text": [
      "process file:  ./corpus/test/asr-baseline-minus/dev-clean.json\n"
     ]
    },
    {
     "name": "stderr",
     "output_type": "stream",
     "text": [
      "  0%|          | 12/2703 [00:00<00:23, 112.23it/s]"
     ]
    },
    {
     "name": "stdout",
     "output_type": "stream",
     "text": [
      "length:  2703\n"
     ]
    },
    {
     "name": "stderr",
     "output_type": "stream",
     "text": [
      "100%|██████████| 2703/2703 [00:19<00:00, 141.72it/s]\n"
     ]
    },
    {
     "name": "stdout",
     "output_type": "stream",
     "text": [
      "process file:  ./corpus/test/asr-baseline-minus/dev-other.json\n"
     ]
    },
    {
     "name": "stderr",
     "output_type": "stream",
     "text": [
      "  1%|          | 17/2864 [00:00<00:18, 157.87it/s]"
     ]
    },
    {
     "name": "stdout",
     "output_type": "stream",
     "text": [
      "length:  2864\n"
     ]
    },
    {
     "name": "stderr",
     "output_type": "stream",
     "text": [
      "100%|██████████| 2864/2864 [00:18<00:00, 152.32it/s]\n"
     ]
    },
    {
     "name": "stdout",
     "output_type": "stream",
     "text": [
      "process file:  ./corpus/test/asr-baseline-minus/test-clean.json\n"
     ]
    },
    {
     "name": "stderr",
     "output_type": "stream",
     "text": [
      "  0%|          | 13/2620 [00:00<00:20, 129.52it/s]"
     ]
    },
    {
     "name": "stdout",
     "output_type": "stream",
     "text": [
      "length:  2620\n"
     ]
    },
    {
     "name": "stderr",
     "output_type": "stream",
     "text": [
      "100%|██████████| 2620/2620 [00:18<00:00, 141.78it/s]\n"
     ]
    },
    {
     "name": "stdout",
     "output_type": "stream",
     "text": [
      "process file:  ./corpus/test/asr-baseline-minus/test-other.json\n"
     ]
    },
    {
     "name": "stderr",
     "output_type": "stream",
     "text": [
      "  1%|          | 16/2939 [00:00<00:18, 156.74it/s]"
     ]
    },
    {
     "name": "stdout",
     "output_type": "stream",
     "text": [
      "length:  2939\n"
     ]
    },
    {
     "name": "stderr",
     "output_type": "stream",
     "text": [
      "100%|██████████| 2939/2939 [00:18<00:00, 155.11it/s]\n"
     ]
    },
    {
     "name": "stdout",
     "output_type": "stream",
     "text": [
      "process file:  ./corpus/test/asr-baseline-plus/dev-clean.json\n"
     ]
    },
    {
     "name": "stderr",
     "output_type": "stream",
     "text": [
      "  0%|          | 12/2703 [00:00<00:23, 113.01it/s]"
     ]
    },
    {
     "name": "stdout",
     "output_type": "stream",
     "text": [
      "length:  2703\n"
     ]
    },
    {
     "name": "stderr",
     "output_type": "stream",
     "text": [
      "100%|██████████| 2703/2703 [00:19<00:00, 141.73it/s]\n"
     ]
    },
    {
     "name": "stdout",
     "output_type": "stream",
     "text": [
      "process file:  ./corpus/test/asr-baseline-plus/dev-other.json\n"
     ]
    },
    {
     "name": "stderr",
     "output_type": "stream",
     "text": [
      "  1%|          | 17/2864 [00:00<00:16, 169.96it/s]"
     ]
    },
    {
     "name": "stdout",
     "output_type": "stream",
     "text": [
      "length:  2864\n"
     ]
    },
    {
     "name": "stderr",
     "output_type": "stream",
     "text": [
      "100%|██████████| 2864/2864 [00:18<00:00, 152.89it/s]\n"
     ]
    },
    {
     "name": "stdout",
     "output_type": "stream",
     "text": [
      "process file:  ./corpus/test/asr-baseline-plus/test-clean.json\n"
     ]
    },
    {
     "name": "stderr",
     "output_type": "stream",
     "text": [
      "  1%|          | 14/2620 [00:00<00:19, 133.79it/s]"
     ]
    },
    {
     "name": "stdout",
     "output_type": "stream",
     "text": [
      "length:  2620\n"
     ]
    },
    {
     "name": "stderr",
     "output_type": "stream",
     "text": [
      "100%|██████████| 2620/2620 [00:18<00:00, 140.02it/s]\n"
     ]
    },
    {
     "name": "stdout",
     "output_type": "stream",
     "text": [
      "process file:  ./corpus/test/asr-baseline-plus/test-other.json\n"
     ]
    },
    {
     "name": "stderr",
     "output_type": "stream",
     "text": [
      "  1%|          | 16/2939 [00:00<00:18, 154.41it/s]"
     ]
    },
    {
     "name": "stdout",
     "output_type": "stream",
     "text": [
      "length:  2939\n"
     ]
    },
    {
     "name": "stderr",
     "output_type": "stream",
     "text": [
      "100%|██████████| 2939/2939 [00:19<00:00, 152.76it/s]\n"
     ]
    }
   ],
   "source": [
    "for test_file in list_test_file:\n",
    "    json_data = ''\n",
    "\n",
    "    print('process file: ', test_file)\n",
    "    # load & process data\n",
    "    with open(test_file) as f:\n",
    "        json_data = json.load(f)\n",
    "        \n",
    "        print('length: ', len(json_data))\n",
    "        compute_lm(json_data)\n",
    "        \n",
    "    # write data\n",
    "    with open(test_file + '_ngram', 'w') as f:\n",
    "        json.dump(json_data, f)\n",
    "    \n",
    "    len(json_data)"
   ]
  },
  {
   "cell_type": "code",
   "execution_count": null,
   "metadata": {
    "collapsed": true
   },
   "outputs": [],
   "source": []
  },
  {
   "cell_type": "code",
   "execution_count": null,
   "metadata": {
    "collapsed": true
   },
   "outputs": [],
   "source": []
  },
  {
   "cell_type": "markdown",
   "metadata": {
    "collapsed": false
   },
   "source": [
    "### just for test"
   ]
  },
  {
   "cell_type": "code",
   "execution_count": 18,
   "metadata": {
    "collapsed": false
   },
   "outputs": [],
   "source": [
    "# with open(list_test_file[0] + '_ngram') as f:\n",
    "#     test_json = json.load(f)\n",
    "# print(len(test_json))\n",
    "# print(test_json['1272-128104-0000'])"
   ]
  },
  {
   "cell_type": "code",
   "execution_count": null,
   "metadata": {
    "collapsed": false
   },
   "outputs": [],
   "source": []
  },
  {
   "cell_type": "code",
   "execution_count": null,
   "metadata": {
    "collapsed": true
   },
   "outputs": [],
   "source": []
  },
  {
   "cell_type": "code",
   "execution_count": null,
   "metadata": {
    "collapsed": true
   },
   "outputs": [],
   "source": []
  },
  {
   "cell_type": "code",
   "execution_count": null,
   "metadata": {
    "collapsed": true
   },
   "outputs": [],
   "source": []
  },
  {
   "cell_type": "code",
   "execution_count": null,
   "metadata": {
    "collapsed": true
   },
   "outputs": [],
   "source": []
  }
 ],
 "metadata": {
  "anaconda-cloud": {},
  "kernelspec": {
   "display_name": "Python [conda env:py36]",
   "language": "python",
   "name": "conda-env-py36-py"
  },
  "language_info": {
   "codemirror_mode": {
    "name": "ipython",
    "version": 3
   },
   "file_extension": ".py",
   "mimetype": "text/x-python",
   "name": "python",
   "nbconvert_exporter": "python",
   "pygments_lexer": "ipython3",
   "version": "3.6.5"
  }
 },
 "nbformat": 4,
 "nbformat_minor": 2
}
