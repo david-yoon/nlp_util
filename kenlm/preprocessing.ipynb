{
 "cells": [
  {
   "cell_type": "code",
   "execution_count": 3,
   "metadata": {
    "collapsed": false
   },
   "outputs": [],
   "source": [
    "import nltk\n",
    "import tqdm"
   ]
  },
  {
   "cell_type": "code",
   "execution_count": 4,
   "metadata": {
    "collapsed": true
   },
   "outputs": [],
   "source": [
    "from nltk import word_tokenize"
   ]
  },
  {
   "cell_type": "code",
   "execution_count": null,
   "metadata": {
    "collapsed": true
   },
   "outputs": [],
   "source": []
  },
  {
   "cell_type": "code",
   "execution_count": 11,
   "metadata": {
    "collapsed": false
   },
   "outputs": [],
   "source": [
    "def lower_tokenize(in_file, apply_tokenize=False):\n",
    "    data = []\n",
    "    with open(in_file, 'r') as f:\n",
    "        data = f.readlines()\n",
    "    len(data)\n",
    "    \n",
    "    with open(in_file+'_lo_tok', 'w') as f2:\n",
    "    \n",
    "        for x in tqdm.tqdm( range(len(data)) ):\n",
    "            sent = data[x].lower().strip()\n",
    "            if apply_tokenize:\n",
    "                tok  = word_tokenize(sent)\n",
    "                f2.write( ' '.join(tok) + '\\n')\n",
    "            else:\n",
    "                f2.write( sent + '\\n')"
   ]
  },
  {
   "cell_type": "code",
   "execution_count": null,
   "metadata": {
    "collapsed": false
   },
   "outputs": [],
   "source": []
  },
  {
   "cell_type": "code",
   "execution_count": 14,
   "metadata": {
    "collapsed": false
   },
   "outputs": [
    {
     "name": "stderr",
     "output_type": "stream",
     "text": [
      "100%|██████████| 50000/50000 [00:05<00:00, 8542.52it/s]\n"
     ]
    }
   ],
   "source": [
    "lower_tokenize('./corpus/librispeech_eval.txt', apply_tokenize=True)"
   ]
  },
  {
   "cell_type": "code",
   "execution_count": null,
   "metadata": {
    "collapsed": false
   },
   "outputs": [
    {
     "name": "stderr",
     "output_type": "stream",
     "text": [
      "  1%|          | 273642/40368260 [00:29<1:11:22, 9362.92it/s]"
     ]
    }
   ],
   "source": [
    "lower_tokenize('./corpus/librispeech_train.txt', apply_tokenize=True)"
   ]
  },
  {
   "cell_type": "code",
   "execution_count": null,
   "metadata": {
    "collapsed": true
   },
   "outputs": [],
   "source": []
  },
  {
   "cell_type": "code",
   "execution_count": 15,
   "metadata": {
    "collapsed": false
   },
   "outputs": [
    {
     "name": "stderr",
     "output_type": "stream",
     "text": [
      "100%|██████████| 297460/297460 [00:00<00:00, 922109.84it/s]\n"
     ]
    }
   ],
   "source": [
    "lower_tokenize('./corpus/enwiki_eval-word_tokenize.txt', apply_tokenize=False)"
   ]
  },
  {
   "cell_type": "code",
   "execution_count": 17,
   "metadata": {
    "collapsed": false
   },
   "outputs": [
    {
     "name": "stderr",
     "output_type": "stream",
     "text": [
      "100%|██████████| 120045722/120045722 [02:26<00:00, 820696.93it/s]\n"
     ]
    }
   ],
   "source": [
    "lower_tokenize('./corpus/enwiki_train-word_tokenize.txt', apply_tokenize=False)"
   ]
  },
  {
   "cell_type": "code",
   "execution_count": null,
   "metadata": {
    "collapsed": true
   },
   "outputs": [],
   "source": []
  },
  {
   "cell_type": "code",
   "execution_count": null,
   "metadata": {
    "collapsed": true
   },
   "outputs": [],
   "source": []
  }
 ],
 "metadata": {
  "anaconda-cloud": {},
  "kernelspec": {
   "display_name": "Python [conda env:py36]",
   "language": "python",
   "name": "conda-env-py36-py"
  },
  "language_info": {
   "codemirror_mode": {
    "name": "ipython",
    "version": 3
   },
   "file_extension": ".py",
   "mimetype": "text/x-python",
   "name": "python",
   "nbconvert_exporter": "python",
   "pygments_lexer": "ipython3",
   "version": "3.6.5"
  }
 },
 "nbformat": 4,
 "nbformat_minor": 2
}
